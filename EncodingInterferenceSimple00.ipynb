{
 "cells": [
  {
   "cell_type": "code",
   "execution_count": 1,
   "metadata": {},
   "outputs": [],
   "source": [
    "# Importing and setting up\n",
    "import numpy as np\n",
    "import matplotlib.pyplot as plt\n",
    "import seaborn as sns  # additional plotting tools\n",
    "from sosp import simple"
   ]
  },
  {
   "cell_type": "code",
   "execution_count": 2,
   "metadata": {},
   "outputs": [],
   "source": [
    "# Self-paced reading: just fill in links\n",
    "centers = np.array([[1, 0], [0, 1.]]) # N1-V, N2-V\n",
    "cond_names = ['canoe_cabin_is', 'canoe_cabins_is', 'canoe_cabin_are', 'canoe_cabins_are',\n",
    "              'canoe_kayak_is', 'canoe_kayaks_is', 'canoe_kayak_are', 'canoe_kayaks_are']\n",
    "ml = 0.8\n",
    "fm = 0.24  # need to have some h_i...\n",
    "cond_harmonies = np.array([[1, ml*(1-fm*3)],\n",
    "                           [1, ml*(1-fm*4)],\n",
    "                           [(1-fm), ml*(1-fm*4)],\n",
    "                           [(1-fm), ml*(1-fm*3)],\n",
    "                           [1, ml],\n",
    "                           [1, ml*(1-fm)],\n",
    "                           [(1-fm), ml*(1-fm)],\n",
    "                           [(1-fm), ml]])\n",
    "gamma = 0.4\n",
    "#cond_names = cond_names[:2] + cond_names[4:6]\n",
    "#cond_harmonies = np.row_stack([cond_harmonies[:2], cond_harmonies[4:6]])"
   ]
  },
  {
   "cell_type": "code",
   "execution_count": 3,
   "metadata": {},
   "outputs": [
    {
     "data": {
      "text/plain": [
       "array([[1.   , 0.224],\n",
       "       [1.   , 0.032],\n",
       "       [0.76 , 0.032],\n",
       "       [0.76 , 0.224],\n",
       "       [1.   , 0.8  ],\n",
       "       [1.   , 0.608],\n",
       "       [0.76 , 0.608],\n",
       "       [0.76 , 0.8  ]])"
      ]
     },
     "execution_count": 3,
     "metadata": {},
     "output_type": "execute_result"
    }
   ],
   "source": [
    "cond_harmonies"
   ]
  },
  {
   "cell_type": "code",
   "execution_count": 4,
   "metadata": {},
   "outputs": [],
   "source": [
    "xinit = np.zeros(centers.shape[1])\n",
    "sys = simple.SimpleModel(corpus_filename=None, centers=centers, local_harmonies=cond_harmonies[0,],\n",
    "                         stopping_crit='cheb_stop')\n",
    "sys.set_gamma(gamma)\n",
    "sys.set_noise_mag(0.001)\n",
    "sys.set_tol(0.1)"
   ]
  },
  {
   "cell_type": "code",
   "execution_count": 5,
   "metadata": {},
   "outputs": [
    {
     "name": "stdout",
     "output_type": "stream",
     "text": [
      "Found 1 unique attractors from 2 centers\n",
      "[[1. 0.]]\n",
      "Found 1 unique attractors from 2 centers\n",
      "[[1. 0.]]\n",
      "Found 1 unique attractors from 2 centers\n",
      "[[1. 0.]]\n",
      "Found 1 unique attractors from 2 centers\n",
      "[[1. 0.]]\n",
      "Found 2 unique attractors from 2 centers\n",
      "[[0.01 0.99]\n",
      " [0.99 0.01]]\n",
      "Found 1 unique attractors from 2 centers\n",
      "[[1. 0.]]\n",
      "Found 2 unique attractors from 2 centers\n",
      "[[0.01 0.99]\n",
      " [0.99 0.01]]\n",
      "Found 2 unique attractors from 2 centers\n",
      "[[0.01 0.99]\n",
      " [0.99 0.01]]\n"
     ]
    }
   ],
   "source": [
    "for i in range(cond_harmonies.shape[0]):\n",
    "    sys.set_local_harmonies(cond_harmonies[i,])\n",
    "    sys.locate_attrs()\n",
    "    print(sys.attrs)"
   ]
  },
  {
   "cell_type": "code",
   "execution_count": 6,
   "metadata": {},
   "outputs": [
    {
     "name": "stdout",
     "output_type": "stream",
     "text": [
      "Found 1 unique attractors from 2 centers\n",
      "Condition 0\n",
      "Run number:\n",
      "[0] [100] [200] [300] [400] [500] [600] [700] [800] [900] [1000] [1100] [1200] [1300] [1400] [1500] [1600] [1700] [1800] [1900] Found 1 unique attractors from 2 centers\n",
      "Condition 1\n",
      "Run number:\n",
      "[0] [100] [200] [300] [400] [500] [600] [700] [800] [900] [1000] [1100] [1200] [1300] [1400] [1500] [1600] [1700] [1800] [1900] Found 1 unique attractors from 2 centers\n",
      "Condition 2\n",
      "Run number:\n",
      "[0] [100] [200] [300] [400] [500] [600] [700] [800] [900] [1000] [1100] [1200] [1300] [1400] [1500] [1600] [1700] [1800] [1900] Found 1 unique attractors from 2 centers\n",
      "Condition 3\n",
      "Run number:\n",
      "[0] [100] [200] [300] [400] [500] [600] [700] [800] [900] [1000] [1100] [1200] [1300] [1400] [1500] [1600] [1700] [1800] [1900] Found 2 unique attractors from 2 centers\n",
      "Condition 4\n",
      "Run number:\n",
      "[0] [100] [200] [300] [400] [500] [600] [700] [800] [900] [1000] [1100] [1200] [1300] [1400] [1500] [1600] [1700] [1800] [1900] Found 1 unique attractors from 2 centers\n",
      "Condition 5\n",
      "Run number:\n",
      "[0] [100] [200] [300] [400] [500] [600] [700] [800] [900] [1000] [1100] [1200] [1300] [1400] [1500] [1600] [1700] [1800] [1900] Found 2 unique attractors from 2 centers\n",
      "Condition 6\n",
      "Run number:\n",
      "[0] [100] [200] [300] [400] [500] [600] [700] [800] [900] [1000] [1100] [1200] [1300] [1400] [1500] [1600] [1700] [1800] [1900] Found 2 unique attractors from 2 centers\n",
      "Condition 7\n",
      "Run number:\n",
      "[0] [100] [200] [300] [400] [500] [600] [700] [800] [900] [1000] [1100] [1200] [1300] [1400] [1500] [1600] [1700] [1800] [1900] "
     ]
    }
   ],
   "source": [
    "data = sys.run_multiple_conditions(n_runs=2000, conditions=cond_harmonies)\n",
    "# Error in line 130 of simple.py: 'Length of values does not match length of index'; seems to be noise-related"
   ]
  },
  {
   "cell_type": "code",
   "execution_count": 7,
   "metadata": {},
   "outputs": [
    {
     "name": "stdout",
     "output_type": "stream",
     "text": [
      "                                 Time                 \n",
      "                                 mean        std count\n",
      "Condition        CenterNr                             \n",
      "canoe_cabin_are  0         135.566500   9.540288  2000\n",
      "canoe_cabin_is   0         104.968000   6.814117  2000\n",
      "canoe_cabins_are 0         139.598500  10.170350  2000\n",
      "canoe_cabins_is  0         102.911000   6.358875  2000\n",
      "canoe_kayak_are  0         162.651055  24.654120  1943\n",
      "                 1         240.947368  42.396690    57\n",
      "canoe_kayak_is   0         123.672081  16.118785  1970\n",
      "                 1         187.100000  41.745824    30\n",
      "canoe_kayaks_are 0         189.888889  37.886701   621\n",
      "                 1         172.614213  32.125624  1379\n",
      "canoe_kayaks_is  0         113.072000   8.197891  2000\n",
      "                      mean        std\n",
      "Condition                            \n",
      "canoe_cabin_are   135.5665   9.540288\n",
      "canoe_cabin_is    104.9680   6.814117\n",
      "canoe_cabins_are  139.5985  10.170350\n",
      "canoe_cabins_is   102.9110   6.358875\n",
      "canoe_kayak_are   164.8825  28.472233\n",
      "canoe_kayak_is    124.6235  18.457223\n",
      "canoe_kayaks_are  177.9780  34.936497\n",
      "canoe_kayaks_is   113.0720   8.197891\n"
     ]
    }
   ],
   "source": [
    "cond_dict = {i: n for i, n in zip(range(len(cond_names)), cond_names)}\n",
    "data['Condition'] = data.Condition.map(cond_dict)\n",
    "print(data.groupby(['Condition', 'CenterNr']).agg(['mean', 'std', 'count']))\n",
    "print(data.groupby(['Condition']).Time.agg(['mean', 'std']))"
   ]
  },
  {
   "cell_type": "code",
   "execution_count": 8,
   "metadata": {},
   "outputs": [
    {
     "data": {
      "image/png": "[encoded data removed]",
      "text/plain": [
       "<Figure size 576x360 with 1 Axes>"
      ]
     },
     "metadata": {},
     "output_type": "display_data"
    }
   ],
   "source": [
    "plt.subplots(figsize=(8, 5))\n",
    "fig = sns.pointplot(x='Condition', y='Time', data=data, ci=95, linestyles='')\n",
    "fig.set_xticklabels(fig.get_xticklabels(), rotation=30, ha='right')\n",
    "fig.set_yscale('log')\n",
    "plt.show()"
   ]
  },
  {
   "cell_type": "code",
   "execution_count": 9,
   "metadata": {},
   "outputs": [],
   "source": [
    "def split_n2(row):\n",
    "    if 'cabin' in row['Condition']:\n",
    "        return 'dissim'\n",
    "    elif 'kayak' in row['Condition']:\n",
    "        return 'sim'\n",
    "\n",
    "\n",
    "def split_num(row):\n",
    "    if 'cabins' in row['Condition'] or 'kayaks' in row['Condition']:\n",
    "        return 'N2pl'\n",
    "    else:\n",
    "        return 'N2sg'\n",
    "\n",
    "\n",
    "def split_vnum(row):\n",
    "    if 'is' in row['Condition']:\n",
    "        return 'Vsg'\n",
    "    elif 'are' in row['Condition']:\n",
    "        return 'Vpl'"
   ]
  },
  {
   "cell_type": "code",
   "execution_count": 10,
   "metadata": {},
   "outputs": [],
   "source": [
    "data['SemSim'] = data.apply(lambda row: split_n2(row), axis=1)\n",
    "data['N2Num'] = data.apply(lambda row: split_num(row), axis=1)\n",
    "data['VNum'] = data.apply(lambda row: split_vnum(row), axis=1)"
   ]
  },
  {
   "cell_type": "code",
   "execution_count": 16,
   "metadata": {},
   "outputs": [
    {
     "name": "stdout",
     "output_type": "stream",
     "text": [
      "SemSim  N2Num  VNum  CenterNr\n",
      "dissim  N2pl   Vpl   0           2000\n",
      "               Vsg   0           2000\n",
      "        N2sg   Vpl   0           2000\n",
      "               Vsg   0           2000\n",
      "sim     N2pl   Vpl   0            621\n",
      "                     1           1379\n",
      "               Vsg   0           2000\n",
      "        N2sg   Vpl   0           1943\n",
      "                     1             57\n",
      "               Vsg   0           1970\n",
      "                     1             30\n",
      "Name: Condition, dtype: int64\n",
      "SemSim  N2Num  VNum  CenterNr\n",
      "dissim  N2pl   Vpl   0           1.0000\n",
      "               Vsg   0           1.0000\n",
      "        N2sg   Vpl   0           1.0000\n",
      "               Vsg   0           1.0000\n",
      "sim     N2pl   Vpl   0           0.3105\n",
      "                     1           0.6895\n",
      "               Vsg   0           1.0000\n",
      "        N2sg   Vpl   0           0.9715\n",
      "                     1           0.0285\n",
      "               Vsg   0           0.9850\n",
      "                     1           0.0150\n",
      "Name: Condition, dtype: float64\n"
     ]
    }
   ],
   "source": [
    "print(data.groupby(['SemSim', 'N2Num', 'VNum', 'CenterNr']).Condition.agg('count'))\n",
    "print(data.groupby(['SemSim', 'N2Num', 'VNum', 'CenterNr']).Condition.agg('count') / 2000.)"
   ]
  },
  {
   "cell_type": "code",
   "execution_count": 14,
   "metadata": {},
   "outputs": [
    {
     "data": {
      "text/plain": [
       "<Figure size 432x288 with 0 Axes>"
      ]
     },
     "metadata": {},
     "output_type": "display_data"
    },
    {
     "data": {
      "image/png": "[encoded data removed]",
      "text/plain": [
       "<Figure size 967.75x432 with 2 Axes>"
      ]
     },
     "metadata": {},
     "output_type": "display_data"
    }
   ],
   "source": [
    "sns.set(font_scale=1.75)\n",
    "sns.set_style('ticks')\n",
    "sns.despine()\n",
    "g = sns.factorplot(x=\"SemSim\", y=\"Time\", hue=\"N2Num\", col=\"VNum\", data=data, kind=\"point\", dodge=True,\n",
    "                   size=6, sharey=False, markers=['^', 'o'], palette={'N2sg': 'k', 'N2pl': 'k'})"
   ]
  },
  {
   "cell_type": "code",
   "execution_count": 15,
   "metadata": {},
   "outputs": [],
   "source": [
    "g.savefig('EIsimpleResults.pdf')"
   ]
  },
  {
   "cell_type": "code",
   "execution_count": null,
   "metadata": {},
   "outputs": [],
   "source": [
    "import statsmodels.api as sm\n",
    "from statsmodels.formula.api import ols\n",
    "\n",
    "lm=ols('Time ~ 1 + C(SemSim, Sum) * C(N2Num, Sum) * C(VNum, Sum)', data=data).fit()\n",
    "#print(sm.stats.anova_lm(lm, typ=3))\n",
    "print(lm.summary())"
   ]
  },
  {
   "cell_type": "code",
   "execution_count": null,
   "metadata": {},
   "outputs": [],
   "source": [
    "lm2 = ols('Time ~ 1 + C(SemSim, Sum) * C(N2Num, Sum)', data=data[data['VNum'] == 'Vsg']).fit()\n",
    "print(lm2.summary())\n",
    "#print(sm.stats.anova_lm(lm2, typ=3))"
   ]
  },
  {
   "cell_type": "code",
   "execution_count": null,
   "metadata": {},
   "outputs": [],
   "source": []
  }
 ],
 "metadata": {
  "kernelspec": {
   "display_name": "Python [default]",
   "language": "python",
   "name": "python3"
  },
  "language_info": {
   "codemirror_mode": {
    "name": "ipython",
    "version": 3
   },
   "file_extension": ".py",
   "mimetype": "text/x-python",
   "name": "python",
   "nbconvert_exporter": "python",
   "pygments_lexer": "ipython3",
   "version": "3.6.5"
  }
 },
 "nbformat": 4,
 "nbformat_minor": 2
}
