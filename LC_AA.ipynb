{
 "cells": [
  {
   "cell_type": "code",
   "execution_count": 50,
   "metadata": {},
   "outputs": [
    {
     "name": "stdout",
     "output_type": "stream",
     "text": [
      "(21, 2)\n"
     ]
    }
   ],
   "source": [
    "# Importing and setting up\n",
    "import numpy as np\n",
    "import matplotlib.pyplot as plt\n",
    "import seaborn as sns  # additional plotting tools\n",
    "from sosp import simple\n",
    "from itertools import product\n",
    "\n",
    "# Verb choice: settle on a noun-verb link -> number marking\n",
    "centers = np.array([[1, 0], [0, 1.]]) # N1-V, N2-V\n",
    "gamma = 0.25  # 0.4 = default, but this is what I used for the diss. simulations\n",
    "\n",
    "# Trying starting w/ 0.5 b/c very low h_i --> failure to build a parse\n",
    "h1seq = np.round(np.arange(0.0, 1.05, 0.05), 2)\n",
    "h0 = np.ones(h1seq.shape)\n",
    "cond_names = []\n",
    "for i, j in product(h0, h1seq):\n",
    "    cond_names.append('h0_{}_h1_{}'.format(i, j))\n",
    "\n",
    "cond_harmonies = np.column_stack([h0, h1seq])\n",
    "print(cond_harmonies.shape)\n",
    "cond_harmonies\n",
    "nruns = 1000"
   ]
  },
  {
   "cell_type": "code",
   "execution_count": 51,
   "metadata": {},
   "outputs": [
    {
     "name": "stdout",
     "output_type": "stream",
     "text": [
      "Found 2 unique attractors from 2 centers\n"
     ]
    }
   ],
   "source": [
    "xinit = np.zeros(centers.shape[1])\n",
    "sys = simple.SimpleModel(corpus_filename=None, centers=centers, local_harmonies=np.array([1., 1.]),\n",
    "                         stopping_crit='cheb_stop')\n",
    "sys.set_gamma(gamma)\n",
    "sys.set_noise_mag(0.0005)  # What was used in the diss.\n",
    "sys.locate_attrs()"
   ]
  },
  {
   "cell_type": "code",
   "execution_count": 52,
   "metadata": {},
   "outputs": [
    {
     "name": "stdout",
     "output_type": "stream",
     "text": [
      "Found 1 unique attractors from 2 centers\n",
      "Condition 0\n",
      "Run number:\n",
      "[0] [100] [200] [300] [400] [500] [600] [700] [800] [900] Found 1 unique attractors from 2 centers\n",
      "Condition 1\n",
      "Run number:\n",
      "[0] [100] [200] [300] [400] [500] [600] [700] [800] [900] Found 1 unique attractors from 2 centers\n",
      "Condition 2\n",
      "Run number:\n",
      "[0] [100] [200] [300] [400] [500] [600] [700] [800] [900] Found 1 unique attractors from 2 centers\n",
      "Condition 3\n",
      "Run number:\n",
      "[0] [100] [200] [300] [400] [500] [600] [700] [800] [900] Found 1 unique attractors from 2 centers\n",
      "Condition 4\n",
      "Run number:\n",
      "[0] [100] [200] [300] [400] [500] [600] [700] [800] [900] Found 1 unique attractors from 2 centers\n",
      "Condition 5\n",
      "Run number:\n",
      "[0] [100] [200] [300] [400] [500] [600] [700] [800] [900] Found 1 unique attractors from 2 centers\n",
      "Condition 6\n",
      "Run number:\n",
      "[0] [100] [200] [300] [400] [500] [600] [700] [800] [900] Found 1 unique attractors from 2 centers\n",
      "Condition 7\n",
      "Run number:\n",
      "[0] [100] [200] [300] [400] [500] [600] [700] [800] [900] Found 1 unique attractors from 2 centers\n",
      "Condition 8\n",
      "Run number:\n",
      "[0] [100] [200] [300] [400] [500] [600] [700] [800] [900] Found 1 unique attractors from 2 centers\n",
      "Condition 9\n",
      "Run number:\n",
      "[0] [100] [200] [300] [400] [500] [600] [700] [800] [900] Found 1 unique attractors from 2 centers\n",
      "Condition 10\n",
      "Run number:\n",
      "[0] [100] [200] [300] [400] [500] [600] [700] [800] [900] Found 2 unique attractors from 2 centers\n",
      "Condition 11\n",
      "Run number:\n",
      "[0] [100] [200] [300] [400] [500] [600] [700] [800] [900] Found 2 unique attractors from 2 centers\n",
      "Condition 12\n",
      "Run number:\n",
      "[0] [100] [200] [300] [400] [500] [600] [700] [800] [900] Found 2 unique attractors from 2 centers\n",
      "Condition 13\n",
      "Run number:\n",
      "[0] [100] [200] [300] [400] [500] [600] [700] [800] [900] Found 2 unique attractors from 2 centers\n",
      "Condition 14\n",
      "Run number:\n",
      "[0] [100] [200] [300] [400] [500] [600] [700] [800] [900] Found 2 unique attractors from 2 centers\n",
      "Condition 15\n",
      "Run number:\n",
      "[0] [100] [200] [300] [400] [500] [600] [700] [800] [900] Found 2 unique attractors from 2 centers\n",
      "Condition 16\n",
      "Run number:\n",
      "[0] [100] [200] [300] [400] [500] [600] [700] [800] [900] Found 2 unique attractors from 2 centers\n",
      "Condition 17\n",
      "Run number:\n",
      "[0] [100] [200] [300] [400] [500] [600] [700] [800] [900] Found 2 unique attractors from 2 centers\n",
      "Condition 18\n",
      "Run number:\n",
      "[0] [100] [200] [300] [400] [500] [600] [700] [800] [900] Found 2 unique attractors from 2 centers\n",
      "Condition 19\n",
      "Run number:\n",
      "[0] [100] [200] [300] [400] [500] [600] [700] [800] [900] Found 2 unique attractors from 2 centers\n",
      "Condition 20\n",
      "Run number:\n",
      "[0] [100] [200] [300] [400] [500] [600] [700] [800] [900] "
     ]
    }
   ],
   "source": [
    "data = sys.run_multiple_conditions(n_runs=nruns, conditions=cond_harmonies)"
   ]
  },
  {
   "cell_type": "code",
   "execution_count": 53,
   "metadata": {},
   "outputs": [],
   "source": [
    "data['Cond'] = np.repeat(h1seq, nruns)"
   ]
  },
  {
   "cell_type": "code",
   "execution_count": 89,
   "metadata": {},
   "outputs": [
    {
     "data": {
      "image/png": "[encoded data removed]",
      "text/plain": [
       "<Figure size 432x432 with 1 Axes>"
      ]
     },
     "metadata": {},
     "output_type": "display_data"
    }
   ],
   "source": [
    "means = data.groupby('Cond').Time.agg('mean')\n",
    "sns.set(font_scale=1.5, style='white')\n",
    "plt.figure(figsize=[6,6])\n",
    "g = sns.pointplot(x=h1seq, y=means)\n",
    "sns.despine()\n",
    "plt.title('Mean settling time')\n",
    "plt.xlabel('$h_1$')\n",
    "plt.setp(g.get_xticklabels()[1::2], visible=False)\n",
    "plt.show()"
   ]
  },
  {
   "cell_type": "code",
   "execution_count": 97,
   "metadata": {},
   "outputs": [],
   "source": [
    "g.figure.savefig('LC_AA.pdf')"
   ]
  },
  {
   "cell_type": "code",
   "execution_count": null,
   "metadata": {},
   "outputs": [],
   "source": []
  }
 ],
 "metadata": {
  "kernelspec": {
   "display_name": "Python [default]",
   "language": "python",
   "name": "python3"
  },
  "language_info": {
   "codemirror_mode": {
    "name": "ipython",
    "version": 3
   },
   "file_extension": ".py",
   "mimetype": "text/x-python",
   "name": "python",
   "nbconvert_exporter": "python",
   "pygments_lexer": "ipython3",
   "version": "3.6.5"
  }
 },
 "nbformat": 4,
 "nbformat_minor": 2
}
