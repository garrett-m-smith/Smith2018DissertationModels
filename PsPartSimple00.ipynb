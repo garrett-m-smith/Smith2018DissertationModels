{
 "cells": [
  {
   "cell_type": "code",
   "execution_count": 1,
   "metadata": {},
   "outputs": [],
   "source": [
    "# Importing and setting up\n",
    "import numpy as np\n",
    "import matplotlib.pyplot as plt\n",
    "import seaborn as sns  # additional plotting tools\n",
    "from sosp import simple"
   ]
  },
  {
   "cell_type": "code",
   "execution_count": 2,
   "metadata": {},
   "outputs": [],
   "source": [
    "# Verb choice: settle on a noun-verb link -> number marking\n",
    "centers = np.array([[1, 0], [0, 1.]]) # N1-V, N2-V\n",
    "cond_names = ['container_long', 'collection_long', 'measure_long', 'quant_long',\n",
    "              'container_short', 'collection_short', 'measure_short', 'quant_short']\n",
    "#ml = 0.8  # 0.8 used for EI, but not needed here\n",
    "gamma = 0.2  # 0.4 = default"
   ]
  },
  {
   "cell_type": "markdown",
   "metadata": {},
   "source": [
    "## Features\n",
    "Noun, container, spatial config., prohib. abstract N2, present\n",
    "\n",
    "| Word | Noun | container | spatial config. | prohib. abstract N2 | present |\n",
    "| - | - | - | - | - | - |\n",
    "| Container | 1 | 1 | 1 | 1 | 1 |\n",
    "| Collection | 1 | 0 | 1 | 1 | 1 |\n",
    "| Measure | 1 | 0 | 0 | 0 | 1 |\n",
    "| Quant | 0 | 0 | 0 | 0 | 1 |\n",
    "| N2 | 1 | 1 | 1 | 0 (1) | 1/0 |\n",
    "| Verb's subject attch. site | 1 | 1 | 1 | 1 | 1 |"
   ]
  },
  {
   "cell_type": "code",
   "execution_count": 3,
   "metadata": {},
   "outputs": [
    {
     "data": {
      "text/plain": [
       "array([[1. , 0.8],\n",
       "       [0.8, 0.8],\n",
       "       [0.4, 0.8],\n",
       "       [0.2, 0.8],\n",
       "       [1. , 0.6],\n",
       "       [0.8, 0.6],\n",
       "       [0.4, 0.6],\n",
       "       [0.2, 0.6]])"
      ]
     },
     "execution_count": 3,
     "metadata": {},
     "output_type": "execute_result"
    }
   ],
   "source": [
    "fm = 0.2  # cost per missing feature\n",
    "# Making N2 not quite perfect; excellent fit to the data\n",
    "cond_harmonies = np.array([[1, 1-fm],\n",
    "                           [1-fm, 1-fm],\n",
    "                           [1-fm*3, 1-fm],\n",
    "                           [1-fm*4, 1-fm],\n",
    "                           [1, 1-fm*2],\n",
    "                           [1-fm, 1-fm*2],\n",
    "                           [1-fm*3, 1-fm*2],\n",
    "                           [1-fm*4, 1-fm*2]])\n",
    "\n",
    "# Making N2 a perfect match all the time; good, but not great fit to data\n",
    "#cond_harmonies = np.array([[1, 1],\n",
    "#                           [1-fm, 1],\n",
    "#                           [1-fm*3, 1],\n",
    "#                           [1-fm*4, 1],\n",
    "#                           [1, 1-fm],\n",
    "#                           [1-fm, 1-fm],\n",
    "#                           [1-fm*3, 1-fm],\n",
    "#                           [1-fm*4, 1-fm]])\n",
    "\n",
    "cond_harmonies"
   ]
  },
  {
   "cell_type": "code",
   "execution_count": 33,
   "metadata": {},
   "outputs": [
    {
     "name": "stdout",
     "output_type": "stream",
     "text": [
      "Found 2 unique attractors from 2 centers\n"
     ]
    }
   ],
   "source": [
    "xinit = np.zeros(centers.shape[1])\n",
    "sys = simple.SimpleModel(corpus_filename=None, centers=centers, local_harmonies=np.array([0, 0]),\n",
    "                         stopping_crit='cheb_stop')\n",
    "sys.set_gamma(gamma)\n",
    "sys.set_noise_mag(0.0005)\n",
    "sys.locate_attrs()"
   ]
  },
  {
   "cell_type": "code",
   "execution_count": 34,
   "metadata": {},
   "outputs": [
    {
     "name": "stdout",
     "output_type": "stream",
     "text": [
      "Found 2 unique attractors from 2 centers\n",
      "Found 2 unique attractors from 2 centers\n",
      "Found 2 unique attractors from 2 centers\n",
      "Found 1 unique attractors from 2 centers\n",
      "Found 2 unique attractors from 2 centers\n",
      "Found 2 unique attractors from 2 centers\n",
      "Found 2 unique attractors from 2 centers\n",
      "Found 1 unique attractors from 2 centers\n"
     ]
    }
   ],
   "source": [
    "for c in range(cond_harmonies.shape[0]):\n",
    "    sys.set_local_harmonies(cond_harmonies[c,])\n",
    "    sys.locate_attrs()"
   ]
  },
  {
   "cell_type": "code",
   "execution_count": 35,
   "metadata": {},
   "outputs": [
    {
     "name": "stdout",
     "output_type": "stream",
     "text": [
      "Found 2 unique attractors from 2 centers\n",
      "Condition 0\n",
      "Run number:\n",
      "[0] [100] [200] [300] [400] [500] [600] [700] [800] [900] [1000] [1100] [1200] [1300] [1400] [1500] [1600] [1700] [1800] [1900] Found 2 unique attractors from 2 centers\n",
      "Condition 1\n",
      "Run number:\n",
      "[0] [100] [200] [300] [400] [500] [600] [700] [800] [900] [1000] [1100] [1200] [1300] [1400] [1500] [1600] [1700] [1800] [1900] Found 2 unique attractors from 2 centers\n",
      "Condition 2\n",
      "Run number:\n",
      "[0] [100] [200] [300] [400] [500] [600] [700] [800] [900] [1000] [1100] [1200] [1300] [1400] [1500] [1600] [1700] [1800] [1900] Found 1 unique attractors from 2 centers\n",
      "Condition 3\n",
      "Run number:\n",
      "[0] [100] [200] [300] [400] [500] [600] [700] [800] [900] [1000] [1100] [1200] [1300] [1400] [1500] [1600] [1700] [1800] [1900] Found 2 unique attractors from 2 centers\n",
      "Condition 4\n",
      "Run number:\n",
      "[0] [100] [200] [300] [400] [500] [600] [700] [800] [900] [1000] [1100] [1200] [1300] [1400] [1500] [1600] [1700] [1800] [1900] Found 2 unique attractors from 2 centers\n",
      "Condition 5\n",
      "Run number:\n",
      "[0] [100] [200] [300] [400] [500] [600] [700] [800] [900] [1000] [1100] [1200] [1300] [1400] [1500] [1600] [1700] [1800] [1900] Found 2 unique attractors from 2 centers\n",
      "Condition 6\n",
      "Run number:\n",
      "[0] [100] [200] [300] [400] [500] [600] [700] [800] [900] [1000] [1100] [1200] [1300] [1400] [1500] [1600] [1700] [1800] [1900] Found 1 unique attractors from 2 centers\n",
      "Condition 7\n",
      "Run number:\n",
      "[0] [100] [200] [300] [400] [500] [600] [700] [800] [900] [1000] [1100] [1200] [1300] [1400] [1500] [1600] [1700] [1800] [1900] "
     ]
    }
   ],
   "source": [
    "data = sys.run_multiple_conditions(n_runs=2000, conditions=cond_harmonies)\n",
    "# Error in line 130 of simple.py: 'Length of values does not match length of index'; seems to be noise-related"
   ]
  },
  {
   "cell_type": "code",
   "execution_count": 36,
   "metadata": {},
   "outputs": [
    {
     "name": "stdout",
     "output_type": "stream",
     "text": [
      "                                 Time                 \n",
      "                                 mean        std count\n",
      "Condition        CenterNr                             \n",
      "collection_long  0         279.549900  46.387005  1002\n",
      "                 1         279.383768  43.079177   998\n",
      "collection_short 0         288.978803  53.912786  1604\n",
      "                 1         344.722222  53.077289   396\n",
      "container_long   0         231.914033  37.231113  1582\n",
      "                 1         270.162679  39.882529   418\n",
      "container_short  0         235.671376  43.455650  1911\n",
      "                 1         335.853933  46.180858    89\n",
      "measure_long     0         466.305085  77.451042    59\n",
      "                 1         295.083462  60.175142  1941\n",
      "measure_short    0         495.989130  87.270425   276\n",
      "                 1         383.436775  79.832297  1724\n",
      "quant_long       0         999.000000   0.000000     3\n",
      "                 1         290.916875  59.648999  1997\n",
      "quant_short      0         999.000000   0.000000    16\n",
      "                 1         393.373488  97.606712  1984\n",
      "                      mean         std\n",
      "Condition                             \n",
      "collection_long   279.4670   44.755843\n",
      "collection_short  300.0160   58.147651\n",
      "container_long    239.9080   40.866730\n",
      "container_short   240.1295   48.219989\n",
      "measure_long      300.1345   67.290233\n",
      "measure_short     398.9690   89.714483\n",
      "quant_long        291.9790   65.604753\n",
      "quant_short       398.2185  111.189322\n"
     ]
    }
   ],
   "source": [
    "cond_dict = {i: n for i, n in zip(range(len(cond_names)), cond_names)}\n",
    "data['Condition'] = data.Condition.map(cond_dict)\n",
    "print(data.groupby(['Condition', 'CenterNr']).agg(['mean', 'std', 'count']))\n",
    "print(data.groupby(['Condition']).Time.agg(['mean', 'std']))"
   ]
  },
  {
   "cell_type": "code",
   "execution_count": 37,
   "metadata": {},
   "outputs": [
    {
     "data": {
      "image/png": "[encoded data removed]",
      "text/plain": [
       "<Figure size 576x360 with 1 Axes>"
      ]
     },
     "metadata": {},
     "output_type": "display_data"
    }
   ],
   "source": [
    "plt.subplots(figsize=(8, 5))\n",
    "fig = sns.pointplot(x='Condition', y='Time', data=data, ci=95, linestyles='')\n",
    "fig.set_xticklabels(fig.get_xticklabels(), rotation=30, ha='right')\n",
    "fig.set_yscale('log')\n",
    "plt.show()"
   ]
  },
  {
   "cell_type": "code",
   "execution_count": 38,
   "metadata": {},
   "outputs": [],
   "source": [
    "def split_short(row):\n",
    "    if 'short' in row['Condition']:\n",
    "        return '-N2'\n",
    "    elif 'long' in row['Condition']:\n",
    "        return '+N2'\n",
    "\n",
    "\n",
    "def split_n1(row):\n",
    "    if 'cont' in row['Condition']:\n",
    "        return 'Cont.'\n",
    "    elif 'coll' in row['Condition']:\n",
    "        return 'Coll.'\n",
    "    elif 'meas' in row['Condition']:\n",
    "        return 'Meas.'\n",
    "    elif 'quant' in row['Condition']:\n",
    "        return 'Quant.'"
   ]
  },
  {
   "cell_type": "code",
   "execution_count": 39,
   "metadata": {},
   "outputs": [],
   "source": [
    "data['N2Presence'] = data.apply(lambda row: split_short(row), axis=1)\n",
    "data['N1Type'] = data.apply(lambda row: split_n1(row), axis=1)"
   ]
  },
  {
   "cell_type": "code",
   "execution_count": 40,
   "metadata": {},
   "outputs": [
    {
     "data": {
      "text/html": [
       "<div>\n",
       "<style scoped>\n",
       "    .dataframe tbody tr th:only-of-type {\n",
       "        vertical-align: middle;\n",
       "    }\n",
       "\n",
       "    .dataframe tbody tr th {\n",
       "        vertical-align: top;\n",
       "    }\n",
       "\n",
       "    .dataframe thead th {\n",
       "        text-align: right;\n",
       "    }\n",
       "</style>\n",
       "<table border=\"1\" class=\"dataframe\">\n",
       "  <thead>\n",
       "    <tr style=\"text-align: right;\">\n",
       "      <th></th>\n",
       "      <th>CenterNr</th>\n",
       "      <th>Time</th>\n",
       "      <th>Condition</th>\n",
       "      <th>N2Presence</th>\n",
       "      <th>N1Type</th>\n",
       "    </tr>\n",
       "  </thead>\n",
       "  <tbody>\n",
       "    <tr>\n",
       "      <th>0</th>\n",
       "      <td>0</td>\n",
       "      <td>200</td>\n",
       "      <td>container_long</td>\n",
       "      <td>+N2</td>\n",
       "      <td>Cont.</td>\n",
       "    </tr>\n",
       "    <tr>\n",
       "      <th>0</th>\n",
       "      <td>0</td>\n",
       "      <td>229</td>\n",
       "      <td>container_long</td>\n",
       "      <td>+N2</td>\n",
       "      <td>Cont.</td>\n",
       "    </tr>\n",
       "    <tr>\n",
       "      <th>0</th>\n",
       "      <td>0</td>\n",
       "      <td>287</td>\n",
       "      <td>container_long</td>\n",
       "      <td>+N2</td>\n",
       "      <td>Cont.</td>\n",
       "    </tr>\n",
       "    <tr>\n",
       "      <th>0</th>\n",
       "      <td>0</td>\n",
       "      <td>214</td>\n",
       "      <td>container_long</td>\n",
       "      <td>+N2</td>\n",
       "      <td>Cont.</td>\n",
       "    </tr>\n",
       "    <tr>\n",
       "      <th>0</th>\n",
       "      <td>0</td>\n",
       "      <td>280</td>\n",
       "      <td>container_long</td>\n",
       "      <td>+N2</td>\n",
       "      <td>Cont.</td>\n",
       "    </tr>\n",
       "  </tbody>\n",
       "</table>\n",
       "</div>"
      ],
      "text/plain": [
       "   CenterNr  Time       Condition N2Presence N1Type\n",
       "0         0   200  container_long        +N2  Cont.\n",
       "0         0   229  container_long        +N2  Cont.\n",
       "0         0   287  container_long        +N2  Cont.\n",
       "0         0   214  container_long        +N2  Cont.\n",
       "0         0   280  container_long        +N2  Cont."
      ]
     },
     "execution_count": 40,
     "metadata": {},
     "output_type": "execute_result"
    }
   ],
   "source": [
    "data.head()"
   ]
  },
  {
   "cell_type": "code",
   "execution_count": 61,
   "metadata": {},
   "outputs": [
    {
     "data": {
      "text/plain": [
       "<Figure size 432x288 with 0 Axes>"
      ]
     },
     "metadata": {},
     "output_type": "display_data"
    },
    {
     "data": {
      "image/png": "[encoded data removed]",
      "text/plain": [
       "<Figure size 520.875x432 with 1 Axes>"
      ]
     },
     "metadata": {},
     "output_type": "display_data"
    }
   ],
   "source": [
    "sns.set(font_scale=1.5)\n",
    "sns.set_style('ticks')\n",
    "sns.despine()\n",
    "g = sns.factorplot(x=\"N1Type\", y=\"Time\", hue=\"N2Presence\", data=data, kind=\"point\", linestyles='', dodge=True,\n",
    "                   size=6, legend_out=True, markers=['o', 's'], palette={\"+N2\": \"k\", \"-N2\": \"k\"})\n",
    "plt.ylabel('Settling time')\n",
    "plt.show()"
   ]
  },
  {
   "cell_type": "code",
   "execution_count": 62,
   "metadata": {},
   "outputs": [],
   "source": [
    "g.savefig('PsPartSimpleRTs02.pdf')"
   ]
  },
  {
   "cell_type": "code",
   "execution_count": 64,
   "metadata": {},
   "outputs": [
    {
     "data": {
      "image/png": "[encoded data removed]",
      "text/plain": [
       "<Figure size 520.875x432 with 1 Axes>"
      ]
     },
     "metadata": {},
     "output_type": "display_data"
    }
   ],
   "source": [
    "g2 = sns.factorplot(x=\"N1Type\", y=\"CenterNr\", hue=\"N2Presence\", data=data, kind=\"point\", linestyles='',\n",
    "                    dodge=0.25, size=6, markers=['o', 's'], palette={\"+N2\": \"k\", \"-N2\": \"k\"}, legend_out=True)\n",
    "#plt.legend(loc='right')\n",
    "plt.ylabel('')\n",
    "plt.show()"
   ]
  },
  {
   "cell_type": "code",
   "execution_count": 65,
   "metadata": {},
   "outputs": [],
   "source": [
    "g2.savefig('PsPartSimpleProps02.pdf')"
   ]
  },
  {
   "cell_type": "code",
   "execution_count": 55,
   "metadata": {},
   "outputs": [
    {
     "data": {
      "text/plain": [
       "array([[1. , 0.8],\n",
       "       [0.8, 0.8],\n",
       "       [0.4, 0.8],\n",
       "       [0.2, 0.8],\n",
       "       [1. , 0.6],\n",
       "       [0.8, 0.6],\n",
       "       [0.4, 0.6],\n",
       "       [0.2, 0.6]])"
      ]
     },
     "execution_count": 55,
     "metadata": {},
     "output_type": "execute_result"
    }
   ],
   "source": [
    "cond_harmonies"
   ]
  },
  {
   "cell_type": "code",
   "execution_count": 112,
   "metadata": {},
   "outputs": [
    {
     "data": {
      "image/png": "[encoded data removed]",
      "text/plain": [
       "<Figure size 952.875x432 with 2 Axes>"
      ]
     },
     "metadata": {},
     "output_type": "display_data"
    }
   ],
   "source": [
    "g3 = sns.factorplot(x=\"N1Type\", y=\"Time\", hue=\"N2Presence\", col='CenterNr', data=data, kind=\"point\", dodge=True,\n",
    "                   size=3.5, sharey=True)"
   ]
  },
  {
   "cell_type": "code",
   "execution_count": 82,
   "metadata": {},
   "outputs": [
    {
     "name": "stderr",
     "output_type": "stream",
     "text": [
      "/Users/garrettsmith/anaconda/lib/python3.6/site-packages/statsmodels/compat/pandas.py:56: FutureWarning: The pandas.core.datetools module is deprecated and will be removed in a future version. Please use the pandas.tseries module instead.\n",
      "  from pandas.core import datetools\n"
     ]
    },
    {
     "name": "stdout",
     "output_type": "stream",
     "text": [
      "                            OLS Regression Results                            \n",
      "==============================================================================\n",
      "Dep. Variable:                   Time   R-squared:                       0.417\n",
      "Model:                            OLS   Adj. R-squared:                  0.416\n",
      "Method:                 Least Squares   F-statistic:                     1632.\n",
      "Date:                Sat, 23 Jun 2018   Prob (F-statistic):               0.00\n",
      "Time:                        17:44:43   Log-Likelihood:                -90297.\n",
      "No. Observations:               16000   AIC:                         1.806e+05\n",
      "Df Residuals:                   15992   BIC:                         1.807e+05\n",
      "Df Model:                           7                                         \n",
      "Covariance Type:            nonrobust                                         \n",
      "====================================================================================================================\n",
      "                                                       coef    std err          t      P>|t|      [0.025      0.975]\n",
      "--------------------------------------------------------------------------------------------------------------------\n",
      "Intercept                                          305.6894      0.540    565.588      0.000     304.630     306.749\n",
      "C(N2Presence, Sum)[S.+N2]                          -28.2375      0.540    -52.245      0.000     -29.297     -27.178\n",
      "C(N1Type, Sum)[S.coll]                             -15.6354      0.936    -16.702      0.000     -17.470     -13.800\n",
      "C(N1Type, Sum)[S.cont]                             -65.5919      0.936    -70.066      0.000     -67.427     -63.757\n",
      "C(N1Type, Sum)[S.meas]                              43.8576      0.936     46.849      0.000      42.023      45.693\n",
      "C(N2Presence, Sum)[S.+N2]:C(N1Type, Sum)[S.coll]    17.0610      0.936     18.225      0.000      15.226      18.896\n",
      "C(N2Presence, Sum)[S.+N2]:C(N1Type, Sum)[S.cont]    29.9140      0.936     31.955      0.000      28.079      31.749\n",
      "C(N2Presence, Sum)[S.+N2]:C(N1Type, Sum)[S.meas]   -22.9990      0.936    -24.568      0.000     -24.834     -21.164\n",
      "==============================================================================\n",
      "Omnibus:                     7000.153   Durbin-Watson:                   1.994\n",
      "Prob(Omnibus):                  0.000   Jarque-Bera (JB):            65881.406\n",
      "Skew:                           1.860   Prob(JB):                         0.00\n",
      "Kurtosis:                      12.219   Cond. No.                         2.00\n",
      "==============================================================================\n",
      "\n",
      "Warnings:\n",
      "[1] Standard Errors assume that the covariance matrix of the errors is correctly specified.\n"
     ]
    }
   ],
   "source": [
    "import statsmodels.api as sm\n",
    "from statsmodels.formula.api import ols\n",
    "\n",
    "lm=ols('Time ~ 1 + C(N2Presence, Sum) * C(N1Type, Sum)', data=data).fit()\n",
    "#print(sm.stats.anova_lm(lm, typ=3))\n",
    "print(lm.summary())"
   ]
  },
  {
   "cell_type": "code",
   "execution_count": 113,
   "metadata": {},
   "outputs": [
    {
     "data": {
      "text/html": [
       "<div>\n",
       "<style scoped>\n",
       "    .dataframe tbody tr th:only-of-type {\n",
       "        vertical-align: middle;\n",
       "    }\n",
       "\n",
       "    .dataframe tbody tr th {\n",
       "        vertical-align: top;\n",
       "    }\n",
       "\n",
       "    .dataframe thead tr th {\n",
       "        text-align: left;\n",
       "    }\n",
       "\n",
       "    .dataframe thead tr:last-of-type th {\n",
       "        text-align: right;\n",
       "    }\n",
       "</style>\n",
       "<table border=\"1\" class=\"dataframe\">\n",
       "  <thead>\n",
       "    <tr>\n",
       "      <th></th>\n",
       "      <th></th>\n",
       "      <th colspan=\"8\" halign=\"left\">CenterNr</th>\n",
       "      <th colspan=\"8\" halign=\"left\">Time</th>\n",
       "    </tr>\n",
       "    <tr>\n",
       "      <th></th>\n",
       "      <th></th>\n",
       "      <th>count</th>\n",
       "      <th>mean</th>\n",
       "      <th>std</th>\n",
       "      <th>min</th>\n",
       "      <th>25%</th>\n",
       "      <th>50%</th>\n",
       "      <th>75%</th>\n",
       "      <th>max</th>\n",
       "      <th>count</th>\n",
       "      <th>mean</th>\n",
       "      <th>std</th>\n",
       "      <th>min</th>\n",
       "      <th>25%</th>\n",
       "      <th>50%</th>\n",
       "      <th>75%</th>\n",
       "      <th>max</th>\n",
       "    </tr>\n",
       "    <tr>\n",
       "      <th>N2Presence</th>\n",
       "      <th>N1Type</th>\n",
       "      <th></th>\n",
       "      <th></th>\n",
       "      <th></th>\n",
       "      <th></th>\n",
       "      <th></th>\n",
       "      <th></th>\n",
       "      <th></th>\n",
       "      <th></th>\n",
       "      <th></th>\n",
       "      <th></th>\n",
       "      <th></th>\n",
       "      <th></th>\n",
       "      <th></th>\n",
       "      <th></th>\n",
       "      <th></th>\n",
       "      <th></th>\n",
       "    </tr>\n",
       "  </thead>\n",
       "  <tbody>\n",
       "    <tr>\n",
       "      <th rowspan=\"4\" valign=\"top\">+N2</th>\n",
       "      <th>coll</th>\n",
       "      <td>2000.0</td>\n",
       "      <td>0.5045</td>\n",
       "      <td>0.500105</td>\n",
       "      <td>0.0</td>\n",
       "      <td>0.0</td>\n",
       "      <td>1.0</td>\n",
       "      <td>1.0</td>\n",
       "      <td>1.0</td>\n",
       "      <td>2000.0</td>\n",
       "      <td>278.8775</td>\n",
       "      <td>45.356765</td>\n",
       "      <td>159.0</td>\n",
       "      <td>246.00</td>\n",
       "      <td>271.0</td>\n",
       "      <td>306.00</td>\n",
       "      <td>483.0</td>\n",
       "    </tr>\n",
       "    <tr>\n",
       "      <th>cont</th>\n",
       "      <td>2000.0</td>\n",
       "      <td>0.2215</td>\n",
       "      <td>0.415360</td>\n",
       "      <td>0.0</td>\n",
       "      <td>0.0</td>\n",
       "      <td>0.0</td>\n",
       "      <td>0.0</td>\n",
       "      <td>1.0</td>\n",
       "      <td>2000.0</td>\n",
       "      <td>241.7740</td>\n",
       "      <td>42.248022</td>\n",
       "      <td>146.0</td>\n",
       "      <td>212.00</td>\n",
       "      <td>237.0</td>\n",
       "      <td>267.00</td>\n",
       "      <td>522.0</td>\n",
       "    </tr>\n",
       "    <tr>\n",
       "      <th>meas</th>\n",
       "      <td>2000.0</td>\n",
       "      <td>0.9655</td>\n",
       "      <td>0.182555</td>\n",
       "      <td>0.0</td>\n",
       "      <td>1.0</td>\n",
       "      <td>1.0</td>\n",
       "      <td>1.0</td>\n",
       "      <td>1.0</td>\n",
       "      <td>2000.0</td>\n",
       "      <td>298.3105</td>\n",
       "      <td>67.831937</td>\n",
       "      <td>181.0</td>\n",
       "      <td>252.00</td>\n",
       "      <td>284.0</td>\n",
       "      <td>327.00</td>\n",
       "      <td>738.0</td>\n",
       "    </tr>\n",
       "    <tr>\n",
       "      <th>quant</th>\n",
       "      <td>2000.0</td>\n",
       "      <td>0.9995</td>\n",
       "      <td>0.022361</td>\n",
       "      <td>0.0</td>\n",
       "      <td>1.0</td>\n",
       "      <td>1.0</td>\n",
       "      <td>1.0</td>\n",
       "      <td>1.0</td>\n",
       "      <td>2000.0</td>\n",
       "      <td>290.8455</td>\n",
       "      <td>61.497867</td>\n",
       "      <td>179.0</td>\n",
       "      <td>249.00</td>\n",
       "      <td>281.0</td>\n",
       "      <td>319.00</td>\n",
       "      <td>999.0</td>\n",
       "    </tr>\n",
       "    <tr>\n",
       "      <th rowspan=\"4\" valign=\"top\">-N2</th>\n",
       "      <th>coll</th>\n",
       "      <td>2000.0</td>\n",
       "      <td>0.2000</td>\n",
       "      <td>0.400100</td>\n",
       "      <td>0.0</td>\n",
       "      <td>0.0</td>\n",
       "      <td>0.0</td>\n",
       "      <td>0.0</td>\n",
       "      <td>1.0</td>\n",
       "      <td>2000.0</td>\n",
       "      <td>301.2305</td>\n",
       "      <td>58.924413</td>\n",
       "      <td>173.0</td>\n",
       "      <td>257.00</td>\n",
       "      <td>292.5</td>\n",
       "      <td>337.25</td>\n",
       "      <td>612.0</td>\n",
       "    </tr>\n",
       "    <tr>\n",
       "      <th>cont</th>\n",
       "      <td>2000.0</td>\n",
       "      <td>0.0470</td>\n",
       "      <td>0.211692</td>\n",
       "      <td>0.0</td>\n",
       "      <td>0.0</td>\n",
       "      <td>0.0</td>\n",
       "      <td>0.0</td>\n",
       "      <td>1.0</td>\n",
       "      <td>2000.0</td>\n",
       "      <td>238.4210</td>\n",
       "      <td>47.249434</td>\n",
       "      <td>142.0</td>\n",
       "      <td>205.00</td>\n",
       "      <td>229.0</td>\n",
       "      <td>261.25</td>\n",
       "      <td>557.0</td>\n",
       "    </tr>\n",
       "    <tr>\n",
       "      <th>meas</th>\n",
       "      <td>2000.0</td>\n",
       "      <td>0.8530</td>\n",
       "      <td>0.354194</td>\n",
       "      <td>0.0</td>\n",
       "      <td>1.0</td>\n",
       "      <td>1.0</td>\n",
       "      <td>1.0</td>\n",
       "      <td>1.0</td>\n",
       "      <td>2000.0</td>\n",
       "      <td>400.7835</td>\n",
       "      <td>90.878535</td>\n",
       "      <td>220.0</td>\n",
       "      <td>334.75</td>\n",
       "      <td>383.0</td>\n",
       "      <td>449.00</td>\n",
       "      <td>938.0</td>\n",
       "    </tr>\n",
       "    <tr>\n",
       "      <th>quant</th>\n",
       "      <td>2000.0</td>\n",
       "      <td>0.9950</td>\n",
       "      <td>0.070551</td>\n",
       "      <td>0.0</td>\n",
       "      <td>1.0</td>\n",
       "      <td>1.0</td>\n",
       "      <td>1.0</td>\n",
       "      <td>1.0</td>\n",
       "      <td>2000.0</td>\n",
       "      <td>395.2725</td>\n",
       "      <td>105.841483</td>\n",
       "      <td>217.0</td>\n",
       "      <td>326.00</td>\n",
       "      <td>373.0</td>\n",
       "      <td>436.00</td>\n",
       "      <td>999.0</td>\n",
       "    </tr>\n",
       "  </tbody>\n",
       "</table>\n",
       "</div>"
      ],
      "text/plain": [
       "                  CenterNr                                               Time  \\\n",
       "                     count    mean       std  min  25%  50%  75%  max   count   \n",
       "N2Presence N1Type                                                               \n",
       "+N2        coll     2000.0  0.5045  0.500105  0.0  0.0  1.0  1.0  1.0  2000.0   \n",
       "           cont     2000.0  0.2215  0.415360  0.0  0.0  0.0  0.0  1.0  2000.0   \n",
       "           meas     2000.0  0.9655  0.182555  0.0  1.0  1.0  1.0  1.0  2000.0   \n",
       "           quant    2000.0  0.9995  0.022361  0.0  1.0  1.0  1.0  1.0  2000.0   \n",
       "-N2        coll     2000.0  0.2000  0.400100  0.0  0.0  0.0  0.0  1.0  2000.0   \n",
       "           cont     2000.0  0.0470  0.211692  0.0  0.0  0.0  0.0  1.0  2000.0   \n",
       "           meas     2000.0  0.8530  0.354194  0.0  1.0  1.0  1.0  1.0  2000.0   \n",
       "           quant    2000.0  0.9950  0.070551  0.0  1.0  1.0  1.0  1.0  2000.0   \n",
       "\n",
       "                                                                              \n",
       "                       mean         std    min     25%    50%     75%    max  \n",
       "N2Presence N1Type                                                             \n",
       "+N2        coll    278.8775   45.356765  159.0  246.00  271.0  306.00  483.0  \n",
       "           cont    241.7740   42.248022  146.0  212.00  237.0  267.00  522.0  \n",
       "           meas    298.3105   67.831937  181.0  252.00  284.0  327.00  738.0  \n",
       "           quant   290.8455   61.497867  179.0  249.00  281.0  319.00  999.0  \n",
       "-N2        coll    301.2305   58.924413  173.0  257.00  292.5  337.25  612.0  \n",
       "           cont    238.4210   47.249434  142.0  205.00  229.0  261.25  557.0  \n",
       "           meas    400.7835   90.878535  220.0  334.75  383.0  449.00  938.0  \n",
       "           quant   395.2725  105.841483  217.0  326.00  373.0  436.00  999.0  "
      ]
     },
     "execution_count": 113,
     "metadata": {},
     "output_type": "execute_result"
    }
   ],
   "source": [
    "data.groupby(['N2Presence', 'N1Type']).describe()"
   ]
  },
  {
   "cell_type": "code",
   "execution_count": null,
   "metadata": {},
   "outputs": [],
   "source": []
  }
 ],
 "metadata": {
  "kernelspec": {
   "display_name": "Python [default]",
   "language": "python",
   "name": "python3"
  },
  "language_info": {
   "codemirror_mode": {
    "name": "ipython",
    "version": 3
   },
   "file_extension": ".py",
   "mimetype": "text/x-python",
   "name": "python",
   "nbconvert_exporter": "python",
   "pygments_lexer": "ipython3",
   "version": "3.6.5"
  }
 },
 "nbformat": 4,
 "nbformat_minor": 2
}
