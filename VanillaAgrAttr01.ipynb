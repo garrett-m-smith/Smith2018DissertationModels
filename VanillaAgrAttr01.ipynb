{
 "cells": [
  {
   "cell_type": "markdown",
   "metadata": {},
   "source": [
    "We know that N1sg N2pl Vpl is more freq. than N1pl N2sg Vsg. An SOSP-TH model that learns feature vectors based on a corpus will make therefore make N1sg N2pl Vpl have a higher harmony than N1pl N2sg Vsg.\n",
    "\n",
    "Still use number from version 00, though."
   ]
  },
  {
   "cell_type": "code",
   "execution_count": 1,
   "metadata": {},
   "outputs": [],
   "source": [
    "# Importing and setting up\n",
    "import numpy as np\n",
    "import matplotlib.pyplot as plt\n",
    "import seaborn as sns  # additional plotting tools\n",
    "from sosp import simple\n",
    "from itertools import product"
   ]
  },
  {
   "cell_type": "code",
   "execution_count": 2,
   "metadata": {},
   "outputs": [],
   "source": [
    "cond_names = ['sg-sg', 'sg-pl', 'pl-sg', 'pl-pl']\n",
    "gamma = 0.4"
   ]
  },
  {
   "cell_type": "code",
   "execution_count": 3,
   "metadata": {},
   "outputs": [
    {
     "data": {
      "text/plain": [
       "array([[0, 0, 0],\n",
       "       [0, 0, 1],\n",
       "       [0, 1, 0],\n",
       "       [0, 1, 1],\n",
       "       [1, 0, 0],\n",
       "       [1, 0, 1],\n",
       "       [1, 1, 0],\n",
       "       [1, 1, 1]])"
      ]
     },
     "execution_count": 3,
     "metadata": {},
     "output_type": "execute_result"
    }
   ],
   "source": [
    "# Like we've done before: dims = N1#, N2#, V#, 0 = sg, 1 = pl\n",
    "centers = np.array(list(product([0, 1], repeat=3)))\n",
    "centers"
   ]
  },
  {
   "cell_type": "code",
   "execution_count": 12,
   "metadata": {},
   "outputs": [],
   "source": [
    "center_names = ['sss', 'ssp', 'sps', 'spp', 'pss', 'psp', 'pps', 'ppp']"
   ]
  },
  {
   "cell_type": "code",
   "execution_count": 5,
   "metadata": {},
   "outputs": [
    {
     "data": {
      "text/plain": [
       "array([[1.  , 0.01, 1.  , 0.8 , 0.8 , 1.  , 0.01, 1.  ],\n",
       "       [1.  , 0.01, 1.  , 0.8 , 0.8 , 1.  , 0.01, 1.  ],\n",
       "       [1.  , 0.01, 1.  , 0.8 , 0.8 , 1.  , 0.01, 1.  ],\n",
       "       [1.  , 0.01, 1.  , 0.8 , 0.8 , 1.  , 0.01, 1.  ]])"
      ]
     },
     "execution_count": 5,
     "metadata": {},
     "output_type": "execute_result"
    }
   ],
   "source": [
    "# Here, we assume the parser will choose the highest-harmony parse it can, so we only need to specify the h_i once\n",
    "# Assume number and markedness feature\n",
    "fm = 0.01\n",
    "ml = 0.8  # 0.8 used for EI, 0.2 used for old sims. of this.\n",
    "marked = 0.2\n",
    "noise_mag = 0.0075\n",
    "harmonies = [1, fm, 1, ml, ml, 1, fm, 1]\n",
    "cond_harmonies = np.array([harmonies] * len(cond_names))\n",
    "cond_harmonies"
   ]
  },
  {
   "cell_type": "code",
   "execution_count": 6,
   "metadata": {},
   "outputs": [],
   "source": [
    "# Specifying init. conds.; assume equidistant between V #s\n",
    "init = np.array([[0, 0, 0.5], [0, 1, 0.5], [1, 0, 0.5], [1, 1, 0.5]])"
   ]
  },
  {
   "cell_type": "code",
   "execution_count": 7,
   "metadata": {},
   "outputs": [],
   "source": [
    "sys = simple.SimpleModel(corpus_filename=None, centers=centers, local_harmonies=cond_harmonies[0,],\n",
    "                         stopping_crit='cheb_stop')\n",
    "sys.set_gamma(gamma)\n",
    "sys.set_noise_mag(noise_mag)\n",
    "sys.set_tol(0.1)"
   ]
  },
  {
   "cell_type": "code",
   "execution_count": 111,
   "metadata": {},
   "outputs": [
    {
     "name": "stdout",
     "output_type": "stream",
     "text": [
      "Found 6 unique attractors from 8 centers\n",
      "[[0.02 0.86 0.09]\n",
      " [0.09 0.14 0.02]\n",
      " [0.18 0.96 0.82]\n",
      " [0.82 0.04 0.18]\n",
      " [0.91 0.86 0.98]\n",
      " [0.98 0.14 0.91]]\n"
     ]
    }
   ],
   "source": [
    "sys.locate_attrs()\n",
    "print(sys.attrs)"
   ]
  },
  {
   "cell_type": "code",
   "execution_count": 112,
   "metadata": {},
   "outputs": [
    {
     "name": "stdout",
     "output_type": "stream",
     "text": [
      "Found 6 unique attractors from 8 centers\n",
      "Condition 0\n",
      "Run number:\n",
      "[0] [100] [200] [300] [400] [500] [600] [700] [800] [900] [1000] [1100] [1200] [1300] [1400] [1500] [1600] [1700] [1800] [1900] Found 6 unique attractors from 8 centers\n",
      "Condition 1\n",
      "Run number:\n",
      "[0] [100] [200] [300] [400] [500] [600] [700] [800] [900] [1000] [1100] [1200] [1300] [1400] [1500] [1600] [1700] [1800] [1900] Found 6 unique attractors from 8 centers\n",
      "Condition 2\n",
      "Run number:\n",
      "[0] [100] [200] [300] [400] [500] [600] [700] [800] [900] [1000] [1100] [1200] [1300] [1400] [1500] [1600] [1700] [1800] [1900] Found 6 unique attractors from 8 centers\n",
      "Condition 3\n",
      "Run number:\n",
      "[0] [100] [200] [300] [400] [500] [600] [700] [800] [900] [1000] [1100] [1200] [1300] [1400] [1500] [1600] [1700] [1800] [1900] "
     ]
    }
   ],
   "source": [
    "data = sys.run_multiple_conditions(n_runs=2000, conditions=cond_harmonies, init_cond=init)"
   ]
  },
  {
   "cell_type": "code",
   "execution_count": 113,
   "metadata": {},
   "outputs": [],
   "source": [
    "cond_dict = {i: n for i, n in zip(range(len(cond_names)), cond_names)}\n",
    "center_dict = {i: n for i, n in zip(range(len(center_names)), center_names)}\n",
    "data['Condition'] = data.Condition.map(cond_dict)\n",
    "data['Center'] = data.CenterNr.map(center_dict)"
   ]
  },
  {
   "cell_type": "code",
   "execution_count": 114,
   "metadata": {},
   "outputs": [
    {
     "name": "stdout",
     "output_type": "stream",
     "text": [
      "                 CenterNr  Time\n",
      "                    count count\n",
      "Condition Center               \n",
      "pl-pl     ppp        2000  2000\n",
      "pl-sg     psp        1986  1986\n",
      "          pss          14    14\n",
      "sg-pl     spp          16    16\n",
      "          sps        1984  1984\n",
      "sg-sg     sss        2000  2000\n",
      "              mean        std\n",
      "Condition                    \n",
      "pl-pl      39.1130   9.181469\n",
      "pl-sg      95.1555  40.571497\n",
      "sg-pl      95.6665  38.189272\n",
      "sg-sg      39.3545   9.663463\n"
     ]
    }
   ],
   "source": [
    "print(data.groupby(['Condition', 'Center']).agg(['count']))\n",
    "print(data.groupby(['Condition']).Time.agg(['mean', 'std']))"
   ]
  },
  {
   "cell_type": "code",
   "execution_count": 16,
   "metadata": {},
   "outputs": [],
   "source": [
    "def split_n1(row):\n",
    "    if 'sg-' in row['Condition']:\n",
    "        return 'N1sg'\n",
    "    elif 'pl-' in row['Condition']:\n",
    "        return 'N1pl'\n",
    "\n",
    "\n",
    "def split_n2(row):\n",
    "    if '-sg' in row['Condition']:\n",
    "        return 'N2sg'\n",
    "    elif '-pl' in row['Condition']:\n",
    "        return 'N2pl'"
   ]
  },
  {
   "cell_type": "code",
   "execution_count": 117,
   "metadata": {},
   "outputs": [],
   "source": [
    "data['N1Nr'] = data.apply(lambda row: split_n1(row), axis=1)\n",
    "data['N2Nr'] = data.apply(lambda row: split_n2(row), axis=1)"
   ]
  },
  {
   "cell_type": "code",
   "execution_count": 118,
   "metadata": {},
   "outputs": [
    {
     "data": {
      "text/html": [
       "<div>\n",
       "<style scoped>\n",
       "    .dataframe tbody tr th:only-of-type {\n",
       "        vertical-align: middle;\n",
       "    }\n",
       "\n",
       "    .dataframe tbody tr th {\n",
       "        vertical-align: top;\n",
       "    }\n",
       "\n",
       "    .dataframe thead th {\n",
       "        text-align: right;\n",
       "    }\n",
       "</style>\n",
       "<table border=\"1\" class=\"dataframe\">\n",
       "  <thead>\n",
       "    <tr style=\"text-align: right;\">\n",
       "      <th></th>\n",
       "      <th>CenterNr</th>\n",
       "      <th>Time</th>\n",
       "      <th>Condition</th>\n",
       "      <th>Center</th>\n",
       "      <th>N1Nr</th>\n",
       "      <th>N2Nr</th>\n",
       "    </tr>\n",
       "  </thead>\n",
       "  <tbody>\n",
       "    <tr>\n",
       "      <th>0</th>\n",
       "      <td>0</td>\n",
       "      <td>41</td>\n",
       "      <td>sg-sg</td>\n",
       "      <td>sss</td>\n",
       "      <td>N1sg</td>\n",
       "      <td>N2sg</td>\n",
       "    </tr>\n",
       "    <tr>\n",
       "      <th>0</th>\n",
       "      <td>0</td>\n",
       "      <td>49</td>\n",
       "      <td>sg-sg</td>\n",
       "      <td>sss</td>\n",
       "      <td>N1sg</td>\n",
       "      <td>N2sg</td>\n",
       "    </tr>\n",
       "    <tr>\n",
       "      <th>0</th>\n",
       "      <td>0</td>\n",
       "      <td>32</td>\n",
       "      <td>sg-sg</td>\n",
       "      <td>sss</td>\n",
       "      <td>N1sg</td>\n",
       "      <td>N2sg</td>\n",
       "    </tr>\n",
       "    <tr>\n",
       "      <th>0</th>\n",
       "      <td>0</td>\n",
       "      <td>25</td>\n",
       "      <td>sg-sg</td>\n",
       "      <td>sss</td>\n",
       "      <td>N1sg</td>\n",
       "      <td>N2sg</td>\n",
       "    </tr>\n",
       "    <tr>\n",
       "      <th>0</th>\n",
       "      <td>0</td>\n",
       "      <td>29</td>\n",
       "      <td>sg-sg</td>\n",
       "      <td>sss</td>\n",
       "      <td>N1sg</td>\n",
       "      <td>N2sg</td>\n",
       "    </tr>\n",
       "  </tbody>\n",
       "</table>\n",
       "</div>"
      ],
      "text/plain": [
       "   CenterNr  Time Condition Center  N1Nr  N2Nr\n",
       "0         0    41     sg-sg    sss  N1sg  N2sg\n",
       "0         0    49     sg-sg    sss  N1sg  N2sg\n",
       "0         0    32     sg-sg    sss  N1sg  N2sg\n",
       "0         0    25     sg-sg    sss  N1sg  N2sg\n",
       "0         0    29     sg-sg    sss  N1sg  N2sg"
      ]
     },
     "execution_count": 118,
     "metadata": {},
     "output_type": "execute_result"
    }
   ],
   "source": [
    "data.head()"
   ]
  },
  {
   "cell_type": "code",
   "execution_count": 119,
   "metadata": {},
   "outputs": [
    {
     "data": {
      "image/png": "[encoded data removed]",
      "text/plain": [
       "<Figure size 637.5x288 with 2 Axes>"
      ]
     },
     "metadata": {},
     "output_type": "display_data"
    }
   ],
   "source": [
    "g = sns.factorplot(x='Center', hue='N2Nr', col='N1Nr', data=data, kind='count')\n",
    "#plt.ylabel('Pr. of selecting N2-headed parse')\n",
    "#plt.show()"
   ]
  },
  {
   "cell_type": "code",
   "execution_count": null,
   "metadata": {},
   "outputs": [],
   "source": [
    "#g.savefig('VanillaAgrAttr.pdf')"
   ]
  },
  {
   "cell_type": "code",
   "execution_count": 22,
   "metadata": {},
   "outputs": [
    {
     "data": {
      "text/plain": [
       "(0.1343408900083963, 0.7139730412960049, 1, array([[1985.,   15.],\n",
       "        [1985.,   15.]]))"
      ]
     },
     "execution_count": 22,
     "metadata": {},
     "output_type": "execute_result"
    }
   ],
   "source": [
    "from scipy.stats import chi2_contingency\n",
    "chi2_contingency(np.array([[1986, 14], [1984, 16]]), correction=False)"
   ]
  },
  {
   "cell_type": "code",
   "execution_count": 9,
   "metadata": {},
   "outputs": [
    {
     "name": "stdout",
     "output_type": "stream",
     "text": [
      "[1, 0.01, 1, 0.8, 0.6000000000000001, 1, 0.0075, 1]\n"
     ]
    }
   ],
   "source": [
    "# Now doing plural markedness\n",
    "harmonies2 = [1, fm, 1, ml, 0.75*ml, 1, 0.75*fm, 1]\n",
    "print(harmonies2)"
   ]
  },
  {
   "cell_type": "code",
   "execution_count": 10,
   "metadata": {},
   "outputs": [
    {
     "name": "stdout",
     "output_type": "stream",
     "text": [
      "Found 6 unique attractors from 8 centers\n",
      "Condition 0\n",
      "Run number:\n",
      "[0] [100] [200] [300] [400] [500] [600] [700] [800] [900] [1000] [1100] [1200] [1300] [1400] [1500] [1600] [1700] [1800] [1900] Found 6 unique attractors from 8 centers\n",
      "Condition 1\n",
      "Run number:\n",
      "[0] [100] [200] [300] [400] [500] [600] [700] [800] [900] [1000] [1100] [1200] [1300] [1400] [1500] [1600] [1700] [1800] [1900] Found 6 unique attractors from 8 centers\n",
      "Condition 2\n",
      "Run number:\n",
      "[0] [100] [200] [300] [400] [500] [600] [700] [800] [900] [1000] [1100] [1200] [1300] [1400] [1500] [1600] [1700] [1800] [1900] Found 6 unique attractors from 8 centers\n",
      "Condition 3\n",
      "Run number:\n",
      "[0] [100] [200] [300] [400] [500] [600] [700] [800] [900] [1000] [1100] [1200] [1300] [1400] [1500] [1600] [1700] [1800] [1900] "
     ]
    },
    {
     "ename": "NameError",
     "evalue": "name 'cond_dict' is not defined",
     "output_type": "error",
     "traceback": [
      "\u001b[0;31m---------------------------------------------------------------------------\u001b[0m",
      "\u001b[0;31mNameError\u001b[0m                                 Traceback (most recent call last)",
      "\u001b[0;32m<ipython-input-10-1c98b3926652>\u001b[0m in \u001b[0;36m<module>\u001b[0;34m()\u001b[0m\n\u001b[1;32m      7\u001b[0m \u001b[0;34m\u001b[0m\u001b[0m\n\u001b[1;32m      8\u001b[0m \u001b[0mdata2\u001b[0m \u001b[0;34m=\u001b[0m \u001b[0msys2\u001b[0m\u001b[0;34m.\u001b[0m\u001b[0mrun_multiple_conditions\u001b[0m\u001b[0;34m(\u001b[0m\u001b[0mn_runs\u001b[0m\u001b[0;34m=\u001b[0m\u001b[0;36m2000\u001b[0m\u001b[0;34m,\u001b[0m \u001b[0mconditions\u001b[0m\u001b[0;34m=\u001b[0m\u001b[0mcond_harmonies2\u001b[0m\u001b[0;34m,\u001b[0m \u001b[0minit_cond\u001b[0m\u001b[0;34m=\u001b[0m\u001b[0minit\u001b[0m\u001b[0;34m)\u001b[0m\u001b[0;34m\u001b[0m\u001b[0m\n\u001b[0;32m----> 9\u001b[0;31m \u001b[0mdata2\u001b[0m\u001b[0;34m[\u001b[0m\u001b[0;34m'Condition'\u001b[0m\u001b[0;34m]\u001b[0m \u001b[0;34m=\u001b[0m \u001b[0mdata2\u001b[0m\u001b[0;34m.\u001b[0m\u001b[0mCondition\u001b[0m\u001b[0;34m.\u001b[0m\u001b[0mmap\u001b[0m\u001b[0;34m(\u001b[0m\u001b[0mcond_dict\u001b[0m\u001b[0;34m)\u001b[0m\u001b[0;34m\u001b[0m\u001b[0m\n\u001b[0m\u001b[1;32m     10\u001b[0m \u001b[0mdata2\u001b[0m\u001b[0;34m[\u001b[0m\u001b[0;34m'Center'\u001b[0m\u001b[0;34m]\u001b[0m \u001b[0;34m=\u001b[0m \u001b[0mdata2\u001b[0m\u001b[0;34m.\u001b[0m\u001b[0mCenterNr\u001b[0m\u001b[0;34m.\u001b[0m\u001b[0mmap\u001b[0m\u001b[0;34m(\u001b[0m\u001b[0mcenter_dict\u001b[0m\u001b[0;34m)\u001b[0m\u001b[0;34m\u001b[0m\u001b[0m\n",
      "\u001b[0;31mNameError\u001b[0m: name 'cond_dict' is not defined"
     ]
    }
   ],
   "source": [
    "cond_harmonies2 = np.array([harmonies2] * len(cond_names))\n",
    "sys2 = simple.SimpleModel(corpus_filename=None, centers=centers, local_harmonies=cond_harmonies2[0,],\n",
    "                         stopping_crit='cheb_stop')\n",
    "sys2.set_gamma(gamma)\n",
    "sys2.set_noise_mag(noise_mag)\n",
    "sys2.set_tol(0.1)\n",
    "\n",
    "data2 = sys2.run_multiple_conditions(n_runs=2000, conditions=cond_harmonies2, init_cond=init)"
   ]
  },
  {
   "cell_type": "code",
   "execution_count": 13,
   "metadata": {},
   "outputs": [],
   "source": [
    "cond_dict = {i: n for i, n in zip(range(len(cond_names)), cond_names)}\n",
    "center_dict = {i: n for i, n in zip(range(len(center_names)), center_names)}\n",
    "data2['Condition'] = data2.Condition.map(cond_dict)\n",
    "data2['Center'] = data2.CenterNr.map(center_dict)"
   ]
  },
  {
   "cell_type": "code",
   "execution_count": 17,
   "metadata": {},
   "outputs": [],
   "source": [
    "data2['N1Nr'] = data2.apply(lambda row: split_n1(row), axis=1)\n",
    "data2['N2Nr'] = data2.apply(lambda row: split_n2(row), axis=1)"
   ]
  },
  {
   "cell_type": "code",
   "execution_count": 18,
   "metadata": {},
   "outputs": [
    {
     "data": {
      "image/png": "[encoded data removed]",
      "text/plain": [
       "<Figure size 637.5x288 with 2 Axes>"
      ]
     },
     "metadata": {},
     "output_type": "display_data"
    }
   ],
   "source": [
    "g2 = sns.factorplot(x='Center', hue='N2Nr', col='N1Nr', data=data2, kind='count')"
   ]
  },
  {
   "cell_type": "code",
   "execution_count": 19,
   "metadata": {},
   "outputs": [
    {
     "name": "stdout",
     "output_type": "stream",
     "text": [
      "                 CenterNr  Time  N1Nr  N2Nr\n",
      "                    count count count count\n",
      "Condition Center                           \n",
      "pl-pl     ppp        2000  2000  2000  2000\n",
      "pl-sg     psp        2000  2000  2000  2000\n",
      "sg-pl     spp          25    25    25    25\n",
      "          sps        1975  1975  1975  1975\n",
      "sg-sg     sss        2000  2000  2000  2000\n",
      "              mean        std\n",
      "Condition                    \n",
      "pl-pl      38.4985   9.350065\n",
      "pl-sg      66.2465  18.223742\n",
      "sg-pl      95.5855  39.829234\n",
      "sg-sg      40.2510   9.401553\n"
     ]
    }
   ],
   "source": [
    "print(data2.groupby(['Condition', 'Center']).agg(['count']))\n",
    "print(data2.groupby(['Condition']).Time.agg(['mean', 'std']))"
   ]
  },
  {
   "cell_type": "code",
   "execution_count": 23,
   "metadata": {},
   "outputs": [
    {
     "data": {
      "text/plain": [
       "(25.157232704402517, 5.284110250147627e-07, 1, array([[1987.5,   12.5],\n",
       "        [1987.5,   12.5]]))"
      ]
     },
     "execution_count": 23,
     "metadata": {},
     "output_type": "execute_result"
    }
   ],
   "source": [
    "chi2_contingency(np.array([[2000, 0], [1975, 25]]), correction=False)"
   ]
  },
  {
   "cell_type": "code",
   "execution_count": 20,
   "metadata": {},
   "outputs": [
    {
     "data": {
      "text/plain": [
       "array([[1.    , 0.01  , 1.    , 0.8   , 0.6   , 1.    , 0.0075, 1.    ],\n",
       "       [1.    , 0.01  , 1.    , 0.8   , 0.6   , 1.    , 0.0075, 1.    ],\n",
       "       [1.    , 0.01  , 1.    , 0.8   , 0.6   , 1.    , 0.0075, 1.    ],\n",
       "       [1.    , 0.01  , 1.    , 0.8   , 0.6   , 1.    , 0.0075, 1.    ]])"
      ]
     },
     "execution_count": 20,
     "metadata": {},
     "output_type": "execute_result"
    }
   ],
   "source": [
    "cond_harmonies2"
   ]
  },
  {
   "cell_type": "code",
   "execution_count": null,
   "metadata": {},
   "outputs": [],
   "source": []
  }
 ],
 "metadata": {
  "kernelspec": {
   "display_name": "Python [default]",
   "language": "python",
   "name": "python3"
  },
  "language_info": {
   "codemirror_mode": {
    "name": "ipython",
    "version": 3
   },
   "file_extension": ".py",
   "mimetype": "text/x-python",
   "name": "python",
   "nbconvert_exporter": "python",
   "pygments_lexer": "ipython3",
   "version": "3.6.5"
  }
 },
 "nbformat": 4,
 "nbformat_minor": 2
}
